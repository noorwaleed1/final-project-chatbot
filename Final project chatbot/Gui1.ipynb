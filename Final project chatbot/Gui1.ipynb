{
 "cells": [
  {
   "cell_type": "code",
   "execution_count": 37,
   "metadata": {},
   "outputs": [],
   "source": [
    "import tkinter\n",
    "from tkinter import *\n",
    "from keras.models import load_model\n",
    "import nltk\n",
    "from nltk.stem import WordNetLemmatizer\n",
    "lemmatizer = WordNetLemmatizer()\n",
    "import json\n",
    "import pickle\n",
    "import random\n",
    "import numpy as np"
   ]
  },
  {
   "cell_type": "markdown",
   "metadata": {},
   "source": [
    "#### loading the model we saved"
   ]
  },
  {
   "cell_type": "code",
   "execution_count": 38,
   "metadata": {},
   "outputs": [],
   "source": [
    "intents = json.loads(open('intents.json').read())\n",
    "model = load_model('chatbot_model.h5')\n",
    "words = pickle.load(open('words.pkl', 'rb'))\n",
    "classes = pickle.load(open('classes.pkl', 'rb'))"
   ]
  },
  {
   "cell_type": "markdown",
   "metadata": {},
   "source": [
    "#### making bagofwords for the sentence"
   ]
  },
  {
   "cell_type": "code",
   "execution_count": 39,
   "metadata": {},
   "outputs": [],
   "source": [
    "def bow(sentence):\n",
    "\tsentence_words = nltk.word_tokenize(sentence)\n",
    "\tsentence_words = [lemmatizer.lemmatize(word.lower()) for word in sentence_words]\n",
    "\tbag = [0]*len(words)\n",
    "\tfor s in sentence_words:\n",
    "\t\tfor i, w in enumerate(words):\n",
    "\t\t\tif w == s:\n",
    "\t\t\t\tbag[i]=1\n",
    "\treturn (np.array(bag))"
   ]
  },
  {
   "cell_type": "markdown",
   "metadata": {},
   "source": [
    "#### predect the tag of the sentence the user will enter and choose randomly from the responses of this tag"
   ]
  },
  {
   "cell_type": "code",
   "execution_count": 40,
   "metadata": {},
   "outputs": [],
   "source": [
    "def predict_class(sentence):\n",
    "\tsentence_bag = bow(sentence) ## bagging the entered sentence\n",
    "\tres = model.predict(np.array([sentence_bag]))[0] ### predicting the bagged sentnece\n",
    "\tERROR_THRESHOLD = 0.30  ### setting a treshhold\n",
    "\tresults = [[i,r] for i,r in enumerate(res) if r > ERROR_THRESHOLD]\n",
    "\t#sort by probablity (the highest prob will be taken)\n",
    "\tresults.sort(key=lambda x: x[1], reverse=True)\n",
    "\treturn_list = []\n",
    "\tfor r in results:\n",
    "\t\treturn_list.append({'intent':classes[r[0]], 'probablity':str(r[1])})\n",
    "\treturn return_list"
   ]
  },
  {
   "cell_type": "code",
   "execution_count": 41,
   "metadata": {},
   "outputs": [],
   "source": [
    "def getResponse(ints):\n",
    "\ttag = ints[0]['intent']\n",
    "\tlist_of_intents = intents['intents']\n",
    "\tfor i in list_of_intents:\n",
    "\t\tif(i['tag']==tag):\n",
    "\t\t\tresult=random.choice(i['responses'])\n",
    "\t\t\tbreak\n",
    "\n",
    "\treturn result"
   ]
  },
  {
   "cell_type": "markdown",
   "metadata": {},
   "source": [
    "#### chatbot"
   ]
  },
  {
   "cell_type": "code",
   "execution_count": 42,
   "metadata": {},
   "outputs": [],
   "source": [
    "def chatbot_response(msg):\n",
    "\tints = predict_class(msg)\n",
    "\tres = getResponse(ints)\n",
    "\treturn res"
   ]
  },
  {
   "cell_type": "code",
   "execution_count": 43,
   "metadata": {},
   "outputs": [],
   "source": [
    "def send():\n",
    "\tmsg = TextEntryBox.get(\"1.0\", 'end-1c').strip()\n",
    "\tTextEntryBox.delete('1.0', 'end')\n",
    "\n",
    "\tif msg != '':\n",
    "\t\tChatHistory.config(state=NORMAL)\n",
    "\t\tChatHistory.insert('end', \"\\n \\n You: \" + msg + '\\n \\n')\n",
    "\n",
    "\t\tres = chatbot_response(msg)\n",
    "\t\tChatHistory.insert('end', \"Bot: \" + res)\n",
    "\t\tChatHistory.config(state=DISABLED)\n",
    "\t\tChatHistory.yview('end')"
   ]
  },
  {
   "cell_type": "code",
   "execution_count": 44,
   "metadata": {},
   "outputs": [
    {
     "data": {
      "text/plain": [
       "''"
      ]
     },
     "execution_count": 44,
     "metadata": {},
     "output_type": "execute_result"
    }
   ],
   "source": [
    "base = Tk()\n",
    "base.title(\" my chatbot\")\n",
    "base.geometry(\"400x500\")\n",
    "base.resizable(width=False, height=False)"
   ]
  },
  {
   "cell_type": "code",
   "execution_count": 45,
   "metadata": {},
   "outputs": [
    {
     "name": "stdout",
     "output_type": "stream",
     "text": [
      "WARNING:tensorflow:5 out of the last 15 calls to <function Model.make_predict_function.<locals>.predict_function at 0x000002734D180AF0> triggered tf.function retracing. Tracing is expensive and the excessive number of tracings could be due to (1) creating @tf.function repeatedly in a loop, (2) passing tensors with different shapes, (3) passing Python objects instead of tensors. For (1), please define your @tf.function outside of the loop. For (2), @tf.function has reduce_retracing=True option that can avoid unnecessary retracing. For (3), please refer to https://www.tensorflow.org/guide/function#controlling_retracing and https://www.tensorflow.org/api_docs/python/tf/function for  more details.\n",
      "1/1 [==============================] - 0s 241ms/step\n",
      "1/1 [==============================] - 0s 27ms/step\n",
      "1/1 [==============================] - 0s 25ms/step\n",
      "1/1 [==============================] - 0s 24ms/step\n",
      "1/1 [==============================] - 0s 70ms/step\n"
     ]
    }
   ],
   "source": [
    "#chat history textview\n",
    "ChatHistory = Text(base, bd=0, bg='white', font='Arial')\n",
    "ChatHistory.config(state=DISABLED)\n",
    "\n",
    "SendButton = Button(base, font=('Arial', 12, 'bold'), \n",
    "\ttext=\"Send\", bg=\"#dfdfdf\", activebackground=\"#3e3e3e\", fg=\"#ffffff\", command=send)\n",
    "\n",
    "TextEntryBox = Text(base, bd=0, bg='white', font='Arial')\n",
    "\n",
    "ChatHistory.place(x=6, y=6, height=386, width=386)\n",
    "TextEntryBox.place(x=128, y=400, height=80, width=265)\n",
    "SendButton.place(x=6, y=400, height=80, width=125)\n",
    "\n",
    "base.mainloop()"
   ]
  },
  {
   "cell_type": "code",
   "execution_count": null,
   "metadata": {},
   "outputs": [],
   "source": []
  }
 ],
 "metadata": {
  "kernelspec": {
   "display_name": "Python 3.9.12 ('base')",
   "language": "python",
   "name": "python3"
  },
  "language_info": {
   "codemirror_mode": {
    "name": "ipython",
    "version": 3
   },
   "file_extension": ".py",
   "mimetype": "text/x-python",
   "name": "python",
   "nbconvert_exporter": "python",
   "pygments_lexer": "ipython3",
   "version": "3.9.12"
  },
  "orig_nbformat": 4,
  "vscode": {
   "interpreter": {
    "hash": "ad2bdc8ecc057115af97d19610ffacc2b4e99fae6737bb82f5d7fb13d2f2c186"
   }
  }
 },
 "nbformat": 4,
 "nbformat_minor": 2
}
